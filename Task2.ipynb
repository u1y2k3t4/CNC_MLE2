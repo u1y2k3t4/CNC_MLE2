{
  "nbformat": 4,
  "nbformat_minor": 0,
  "metadata": {
    "colab": {
      "provenance": [],
      "authorship_tag": "ABX9TyOznXHGHGfXnNKOZ6NBKXZT",
      "include_colab_link": true
    },
    "kernelspec": {
      "name": "python3",
      "display_name": "Python 3"
    },
    "language_info": {
      "name": "python"
    }
  },
  "cells": [
    {
      "cell_type": "markdown",
      "metadata": {
        "id": "view-in-github",
        "colab_type": "text"
      },
      "source": [
        "<a href=\"https://colab.research.google.com/github/u1y2k3t4/CNC_MLE2/blob/main/Task2.ipynb\" target=\"_parent\"><img src=\"https://colab.research.google.com/assets/colab-badge.svg\" alt=\"Open In Colab\"/></a>"
      ]
    },
    {
      "cell_type": "code",
      "source": [
        "import pandas as pd\n",
        "from sklearn.datasets import fetch_california_housing\n",
        "data = fetch_california_housing(as_frame=True)\n",
        "df = data.frame.copy()\n",
        "df.head()\n",
        "print(\"\\n🔍 Missing Values:\")\n",
        "print(df.isnull().sum())\n",
        "import numpy as np\n",
        "from scipy.stats import zscore\n",
        "z_scores = np.abs(zscore(df))\n",
        "df_clean = df[(z_scores < 3).all(axis=1)]\n",
        "\n",
        "print(f\"\\n🧹 Data cleaned: {len(df) - len(df_clean)} outliers removed\")\n",
        "df = pd.read_csv('/content/insurance_data.csv')"
      ],
      "metadata": {
        "colab": {
          "base_uri": "https://localhost:8080/"
        },
        "id": "D1Y8oGZ0Lm1E",
        "outputId": "b2fa2fc6-b60e-4c2e-f3a0-8871f1ef950c"
      },
      "execution_count": null,
      "outputs": [
        {
          "output_type": "stream",
          "name": "stdout",
          "text": [
            "\n",
            "🔍 Missing Values:\n",
            "MedInc         0\n",
            "HouseAge       0\n",
            "AveRooms       0\n",
            "AveBedrms      0\n",
            "Population     0\n",
            "AveOccup       0\n",
            "Latitude       0\n",
            "Longitude      0\n",
            "MedHouseVal    0\n",
            "dtype: int64\n",
            "\n",
            "🧹 Data cleaned: 846 outliers removed\n"
          ]
        }
      ]
    }
  ]
}